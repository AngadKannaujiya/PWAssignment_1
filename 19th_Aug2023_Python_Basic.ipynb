{
 "cells": [
  {
   "cell_type": "markdown",
   "id": "9d66ed4f-6b17-40cd-bed0-8799c233e83d",
   "metadata": {},
   "source": [
    "# TOPIC:Python Basics Variable"
   ]
  },
  {
   "cell_type": "markdown",
   "id": "465261d9-3f81-45c7-a152-77de091b4884",
   "metadata": {},
   "source": [
    "**1.Declare two variables, `x` and `y`, and assign them integer values.Swap the values of these variables without using any temporary variable.**"
   ]
  },
  {
   "cell_type": "code",
   "execution_count": 2,
   "id": "6190f8ba-24da-40b7-9bd7-0c9ea2e3a773",
   "metadata": {},
   "outputs": [],
   "source": [
    "x = 5\n",
    "y = 6"
   ]
  },
  {
   "cell_type": "code",
   "execution_count": 3,
   "id": "216daed8-b367-49d2-850a-694859634775",
   "metadata": {},
   "outputs": [
    {
     "name": "stdout",
     "output_type": "stream",
     "text": [
      "5\n"
     ]
    }
   ],
   "source": [
    "print (x)"
   ]
  },
  {
   "cell_type": "code",
   "execution_count": 4,
   "id": "68b8449f-541b-4e8f-8f62-f31219d9545c",
   "metadata": {},
   "outputs": [
    {
     "name": "stdout",
     "output_type": "stream",
     "text": [
      "6\n"
     ]
    }
   ],
   "source": [
    "print (y)"
   ]
  },
  {
   "cell_type": "code",
   "execution_count": 5,
   "id": "8ef0f2b4-336c-42c3-ab60-bfb284ccd8dd",
   "metadata": {},
   "outputs": [],
   "source": [
    "x = x + y\n",
    "y = x - y\n",
    "x = x - y"
   ]
  },
  {
   "cell_type": "markdown",
   "id": "49421fdc-2b36-4aed-9dc5-dfa4800296fb",
   "metadata": {},
   "source": [
    "After swap"
   ]
  },
  {
   "cell_type": "code",
   "execution_count": 7,
   "id": "cf1c4e2a-c93e-4cf4-a0a5-e985ca7bf47f",
   "metadata": {},
   "outputs": [
    {
     "name": "stdout",
     "output_type": "stream",
     "text": [
      "x = 6\n",
      "y = 5\n"
     ]
    }
   ],
   "source": [
    "print(\"x =\", x)\n",
    "print(\"y =\", y)"
   ]
  },
  {
   "cell_type": "markdown",
   "id": "eeb3f094-649d-44b8-9816-fde0ac0982c6",
   "metadata": {},
   "source": [
    "**2.Create a program that calculates the area of a rectangle. Take the length and width as inputs from the user and store them in variables.Calculate and display the area.**"
   ]
  },
  {
   "cell_type": "code",
   "execution_count": 22,
   "id": "e4feb23d-ffe7-4e20-b035-fcb5681eef6d",
   "metadata": {},
   "outputs": [
    {
     "name": "stdin",
     "output_type": "stream",
     "text": [
      "Enter the lenth:  10\n",
      "Enter the width:  15\n"
     ]
    },
    {
     "name": "stdout",
     "output_type": "stream",
     "text": [
      "The Area of Rectangle is: 150.0\n"
     ]
    }
   ],
   "source": [
    "lenth = float(input(\"Enter the lenth: \")) # taking the input from user\n",
    "width = float(input(\"Enter the width: \")) # taking the input from user\n",
    "area_rectangle = lenth*width # calculating area of rectangle \n",
    "print (\"The Area of Rectangle is:\", area_rectangle)"
   ]
  },
  {
   "cell_type": "markdown",
   "id": "b7ce168f-0169-42e7-babe-6c586447c804",
   "metadata": {},
   "source": [
    "**3.Write a Python program that converts temperature from Celsius to Fahrenheit. Take the temperature in Celsius as input, store it in a variable, convert it to Fahrenheit, and display the result.**"
   ]
  },
  {
   "cell_type": "code",
   "execution_count": 25,
   "id": "705ead0f-df23-439d-ab35-b76094232f62",
   "metadata": {},
   "outputs": [
    {
     "name": "stdin",
     "output_type": "stream",
     "text": [
      "Enter the temperature in Celsius:  10\n"
     ]
    },
    {
     "name": "stdout",
     "output_type": "stream",
     "text": [
      "Temperature in Fahrenheit: 50.0\n"
     ]
    }
   ],
   "source": [
    "temperature_in_Celsius = float(input(\"Enter the temperature in Celsius: \"))\n",
    "#converting celsius to fahrenheit\n",
    "fahrenheit = (temperature_in_Celsius * 9/5) + 32\n",
    "print (\"Temperature in Fahrenheit:\", fahrenheit)"
   ]
  },
  {
   "cell_type": "markdown",
   "id": "50bd8988-46cd-4b14-9f86-85c657b51550",
   "metadata": {},
   "source": [
    "# TOPIC: String Based Questions"
   ]
  },
  {
   "cell_type": "markdown",
   "id": "4e7419ed-adc8-4160-b3f4-6762f2ac00d5",
   "metadata": {},
   "source": [
    "**1.Write a Python program that takes a string as input and prints the length of the string.**"
   ]
  },
  {
   "cell_type": "code",
   "execution_count": 1,
   "id": "4932ee9c-42a4-45bf-9598-469d125276c7",
   "metadata": {},
   "outputs": [
    {
     "name": "stdin",
     "output_type": "stream",
     "text": [
      "Write your word:  hello\n"
     ]
    },
    {
     "name": "stdout",
     "output_type": "stream",
     "text": [
      "My String length is: 5\n"
     ]
    }
   ],
   "source": [
    "my_string = input(\"Write your word: \")\n",
    "length = len(my_string)\n",
    "print (\"My String length is:\", length)"
   ]
  },
  {
   "cell_type": "markdown",
   "id": "ead04c5e-8c10-4440-a3c6-6c14465d1fb7",
   "metadata": {},
   "source": [
    "**2.Create a program that takes a sentence from the user and counts the number of vowels (a, e, i, o, u) in the string.**\n"
   ]
  },
  {
   "cell_type": "code",
   "execution_count": 6,
   "id": "301ca964-bcd0-4219-b485-56254760e261",
   "metadata": {},
   "outputs": [
    {
     "name": "stdin",
     "output_type": "stream",
     "text": [
      "Type your sentence:  hi\n"
     ]
    },
    {
     "name": "stdout",
     "output_type": "stream",
     "text": [
      "Number of vowels: 1\n"
     ]
    }
   ],
   "source": [
    "user_input = input(\"Type your sentence: \")\n",
    "vowels_count = 0\n",
    "for char in user_input:\n",
    "    char_lower = char.lower() # lower the string\n",
    "if char_lower in \"aeiou\":\n",
    "    vowels_count += 1\n",
    "print(\"Number of vowels:\", vowels_count)"
   ]
  },
  {
   "cell_type": "markdown",
   "id": "2dadf8d6-52d6-493a-a307-1935a54a6247",
   "metadata": {},
   "source": [
    "**3.Given a string, reverse the order of characters using string slicing and print the reversed string.**"
   ]
  },
  {
   "cell_type": "code",
   "execution_count": 7,
   "id": "5c7ac4f6-ac15-4aa8-b78b-08e6704e21df",
   "metadata": {},
   "outputs": [
    {
     "name": "stdin",
     "output_type": "stream",
     "text": [
      "Enter your string: Angad\n"
     ]
    },
    {
     "name": "stdout",
     "output_type": "stream",
     "text": [
      "reversed string: dagnA\n"
     ]
    }
   ],
   "source": [
    "input_string = input(\"Enter your string:\")\n",
    "reversed_string = input_string[::-1]  #slicing should start from the end of the string and move backwards\n",
    "print (\"reversed string:\", reversed_string)"
   ]
  },
  {
   "cell_type": "markdown",
   "id": "ff9781ac-9f6c-4909-aec4-4e2f91604d44",
   "metadata": {},
   "source": [
    "**4.Write a program that takes a string as input and checks if it is a palindrome (reads the same forwards and backwards)**"
   ]
  },
  {
   "cell_type": "code",
   "execution_count": 1,
   "id": "5bc4cadf-c2b7-4761-b5e0-010dedb2b191",
   "metadata": {},
   "outputs": [
    {
     "name": "stdin",
     "output_type": "stream",
     "text": [
      "Enter a string:  hello world\n"
     ]
    },
    {
     "name": "stdout",
     "output_type": "stream",
     "text": [
      "The input string is not a palindrome.\n"
     ]
    }
   ],
   "source": [
    "# Step 1: Get input from the user\n",
    "input_string = input(\"Enter a string: \")\n",
    "\n",
    "# Step 2: Remove spaces and convert the input string to lowercase\n",
    "cleaned_string = input_string.replace(\" \", \"\").lower()\n",
    "\n",
    "# Step 3: Reverse the cleaned string using slicing\n",
    "reversed_string = cleaned_string[::-1]  ##slicing should start from the end of the string and move backwards,\n",
    "\n",
    "# Step 4: Compare the cleaned string with its reverse to check for palindrome\n",
    "if cleaned_string == reversed_string:\n",
    "    print(\"The input string is a palindrome.\")\n",
    "else:\n",
    "    print(\"The input string is not a palindrome.\")"
   ]
  },
  {
   "cell_type": "markdown",
   "id": "b4aca3ea-8a66-42e1-860f-50be0e42fe69",
   "metadata": {},
   "source": [
    "**5.Create a program that takes a string as input and removes all the spaces from it. Print the modified string without spaces.**"
   ]
  },
  {
   "cell_type": "code",
   "execution_count": null,
   "id": "5db4d689-e939-41ca-8660-3cd4365eb6fa",
   "metadata": {},
   "outputs": [],
   "source": []
  }
 ],
 "metadata": {
  "kernelspec": {
   "display_name": "Python 3 (ipykernel)",
   "language": "python",
   "name": "python3"
  },
  "language_info": {
   "codemirror_mode": {
    "name": "ipython",
    "version": 3
   },
   "file_extension": ".py",
   "mimetype": "text/x-python",
   "name": "python",
   "nbconvert_exporter": "python",
   "pygments_lexer": "ipython3",
   "version": "3.10.8"
  }
 },
 "nbformat": 4,
 "nbformat_minor": 5
}
